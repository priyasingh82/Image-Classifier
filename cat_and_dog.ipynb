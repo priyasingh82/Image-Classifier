{
 "cells": [
  {
   "cell_type": "code",
   "execution_count": 2,
   "metadata": {},
   "outputs": [],
   "source": [
    "import pandas as pd\n",
    "import keras\n",
    "import tensorflow\n",
    "from keras.datasets import mnist\n",
    "from keras.models import Sequential\n",
    "from keras.layers import Dense, Dropout, Conv2D, MaxPooling2D, Flatten\n",
    "from keras.optimizers import RMSprop"
   ]
  },
  {
   "cell_type": "code",
   "execution_count": 10,
   "metadata": {},
   "outputs": [],
   "source": [
    "#Initializing the CNN\n",
    "model = Sequential()\n",
    "\n",
    "#Step1 - Convolution\n",
    "model.add(Conv2D(32,(3,3),input_shape=(64,64,3),activation='relu'))\n",
    "\n",
    "#Step2 - Pooling\n",
    "model.add(MaxPooling2D(pool_size=(2,2)))\n",
    "\n",
    "#Step3 - Adding a second convolution layer and Pooling\n",
    "model.add(Conv2D(16,(3,3), activation= 'relu'))\n",
    "model.add(MaxPooling2D(pool_size=(2,2)))\n",
    "          \n",
    "#Step4 - Flattening\n",
    "model.add(Flatten())\n",
    "\n",
    "#Step5 - Full Connection (Hidden Layers)\n",
    "model.add(Dense(100 , activation = 'relu'))\n",
    "model.add(Dense(1 , activation = 'sigmoid'))\n",
    "\n",
    "#Step6 Compiling the CNN\n",
    "model.compile(loss='binary_crossentropy' , optimizer = 'adam',  metrics=['accuracy'])          "
   ]
  },
  {
   "cell_type": "code",
   "execution_count": 14,
   "metadata": {},
   "outputs": [
    {
     "name": "stdout",
     "output_type": "stream",
     "text": [
      "Found 220 images belonging to 2 classes.\n",
      "Found 72 images belonging to 2 classes.\n",
      "Epoch 1/10\n",
      "20/20 [==============================] - 5s 228ms/step - loss: 0.5626 - accuracy: 0.7275 - val_loss: 0.7185 - val_accuracy: 0.5870\n",
      "Epoch 2/10\n",
      "20/20 [==============================] - 4s 209ms/step - loss: 0.5347 - accuracy: 0.7150 - val_loss: 0.3003 - val_accuracy: 0.6080\n",
      "Epoch 3/10\n",
      "20/20 [==============================] - 4s 191ms/step - loss: 0.5195 - accuracy: 0.7625 - val_loss: 0.5035 - val_accuracy: 0.5815\n",
      "Epoch 4/10\n",
      "20/20 [==============================] - 4s 185ms/step - loss: 0.4920 - accuracy: 0.7700 - val_loss: 0.8517 - val_accuracy: 0.6364\n",
      "Epoch 5/10\n",
      "20/20 [==============================] - 4s 181ms/step - loss: 0.4686 - accuracy: 0.7950 - val_loss: 0.7508 - val_accuracy: 0.6902\n",
      "Epoch 6/10\n",
      "20/20 [==============================] - 3s 167ms/step - loss: 0.4028 - accuracy: 0.8100 - val_loss: 0.3342 - val_accuracy: 0.7045\n",
      "Epoch 7/10\n",
      "20/20 [==============================] - 4s 212ms/step - loss: 0.4016 - accuracy: 0.8300 - val_loss: 0.8056 - val_accuracy: 0.5924\n",
      "Epoch 8/10\n",
      "20/20 [==============================] - 4s 201ms/step - loss: 0.3636 - accuracy: 0.8675 - val_loss: 0.3453 - val_accuracy: 0.6420\n",
      "Epoch 9/10\n",
      "20/20 [==============================] - 4s 191ms/step - loss: 0.3668 - accuracy: 0.8500 - val_loss: 0.7290 - val_accuracy: 0.6467\n",
      "Epoch 10/10\n",
      "20/20 [==============================] - 4s 183ms/step - loss: 0.3494 - accuracy: 0.8625 - val_loss: 0.5447 - val_accuracy: 0.6080\n"
     ]
    },
    {
     "data": {
      "text/plain": [
       "<keras.callbacks.callbacks.History at 0x20ffb313fd0>"
      ]
     },
     "execution_count": 14,
     "metadata": {},
     "output_type": "execute_result"
    }
   ],
   "source": [
    "from keras.preprocessing.image import ImageDataGenerator\n",
    "\n",
    "train_datagen = ImageDataGenerator(rescale = 1./255,\n",
    "                                   shear_range = 0.2,\n",
    "                                   zoom_range = 0.2,\n",
    "                                   horizontal_flip = True)\n",
    "\n",
    "test_datagen = ImageDataGenerator(rescale = 1./255)\n",
    "\n",
    "training_set = train_datagen.flow_from_directory('img_data/train',\n",
    "                                                 target_size = (64, 64),\n",
    "                                                 batch_size = 20,\n",
    "                                                 class_mode = 'binary')\n",
    "\n",
    "test_set = test_datagen.flow_from_directory('img_data/test',\n",
    "                                            target_size = (64, 64),\n",
    "                                            batch_size = 10,\n",
    "                                            class_mode = 'binary')\n",
    "\n",
    "model.fit_generator(training_set,\n",
    "                         steps_per_epoch = 20,\n",
    "                         epochs = 10,\n",
    "                         validation_data = test_set,\n",
    "                         validation_steps = 20)"
   ]
  },
  {
   "cell_type": "code",
   "execution_count": null,
   "metadata": {},
   "outputs": [],
   "source": [
    "\n"
   ]
  },
  {
   "cell_type": "code",
   "execution_count": 26,
   "metadata": {},
   "outputs": [
    {
     "name": "stdout",
     "output_type": "stream",
     "text": [
      "cat\n"
     ]
    }
   ],
   "source": [
    "import numpy as np \n",
    "from keras.preprocessing import image\n",
    "test_image = image.load_img('img_data/single_prediction/cat_or_dog_3.jpg',target_size=(64,64))\n",
    "test_image = image.img_to_array(test_image)\n",
    "\n",
    "test_image= np.expand_dims(test_image,axis=0)\n",
    "r=model.predict(test_image)\n",
    "if r[0][0] == 1:\n",
    "    print('dog')\n",
    "else :\n",
    "    print('cat')"
   ]
  },
  {
   "cell_type": "code",
   "execution_count": 28,
   "metadata": {},
   "outputs": [
    {
     "name": "stdout",
     "output_type": "stream",
     "text": [
      "dog\n"
     ]
    }
   ],
   "source": [
    "import numpy as np \n",
    "from keras.preprocessing import image\n",
    "test_image = image.load_img('img_data/single_prediction/cat_or_dog_1.jpg',target_size=(64,64))\n",
    "test_image = image.img_to_array(test_image)\n",
    "\n",
    "test_image= np.expand_dims(test_image,axis=0)\n",
    "\n",
    "r=model.predict(test_image)\n",
    "if r[0][0] == 1:\n",
    "    print('dog')\n",
    "else :\n",
    "    print('cat')"
   ]
  },
  {
   "cell_type": "code",
   "execution_count": null,
   "metadata": {},
   "outputs": [],
   "source": []
  }
 ],
 "metadata": {
  "kernelspec": {
   "display_name": "Python 3",
   "language": "python",
   "name": "python3"
  },
  "language_info": {
   "codemirror_mode": {
    "name": "ipython",
    "version": 3
   },
   "file_extension": ".py",
   "mimetype": "text/x-python",
   "name": "python",
   "nbconvert_exporter": "python",
   "pygments_lexer": "ipython3",
   "version": "3.7.3"
  }
 },
 "nbformat": 4,
 "nbformat_minor": 2
}
